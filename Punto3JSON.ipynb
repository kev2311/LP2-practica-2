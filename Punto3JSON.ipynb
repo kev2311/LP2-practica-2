{
 "cells": [
  {
   "cell_type": "code",
   "execution_count": 1,
   "metadata": {},
   "outputs": [],
   "source": [
    "# Importando las librerías\n",
    "import json\n",
    "import pandas as pd\n",
    "import numpy as np\n",
    "import matplotlib.pyplot as ptl\n",
    "import seaborn as sns\n",
    "from urllib.request import urlopen\n",
    "from bs4 import BeautifulSoup as soup\n",
    "import requests"
   ]
  },
  {
   "cell_type": "code",
   "execution_count": 2,
   "metadata": {},
   "outputs": [
    {
     "data": {
      "text/plain": [
       "'Laptop Lenovo Ideapad S540 Intel Core I5 10ma Gen 8gb 512gb '"
      ]
     },
     "execution_count": 2,
     "metadata": {},
     "output_type": "execute_result"
    }
   ],
   "source": [
    "# Mercado libre - laptops\n",
    "# Accediendo al website\n",
    "url=\"https://listado.mercadolibre.com.pe/computacion/laptops/\"\n",
    "uclient=urlopen(url)\n",
    "pagehtml=uclient.read()\n",
    "uclient.close()\n",
    "pagesoup=soup(pagehtml, \"html.parser\")\n",
    "c=pagesoup.findAll(\"li\",{\"class\":\"ui-search-layout__item\"})\n",
    "c[1].div.a[\"title\"]"
   ]
  },
  {
   "cell_type": "code",
   "execution_count": 3,
   "metadata": {},
   "outputs": [],
   "source": [
    "titulos=[]\n",
    "precio_actual=[]\n",
    "descuento=[]\n",
    "precio_anterior=[]\n",
    "detalles=[]\n",
    "\n",
    "#find busca un elemento\n",
    "#findAll crea una lista\n",
    "\n",
    "for i in range(0,4):\n",
    "    url=\"https://listado.mercadolibre.com.pe/computacion/laptops/\"+\"_Desde_\"+str(i*50+1)\n",
    "    uclient=urlopen(url)\n",
    "    pagehtml=uclient.read()\n",
    "    uclient.close()\n",
    "    pagesoup=soup(pagehtml, \"html.parser\")\n",
    "    c=pagesoup.findAll(\"li\",{\"class\":\"ui-search-layout__item\"})\n",
    "\n",
    "    for i in range(0,len(c)):\n",
    "        \n",
    "        titulo=c[i].div.a[\"title\"]\n",
    "        #mas especifico\n",
    "        titulo=c[i].find(\"div\",{\"ui-search-item__group ui-search-item__group--title\"}).a[\"title\"] #[0] ya que guarda todo en una lista de un elemento y agarramos ese element                titulos.append(titulo)\n",
    "        titulos.append(titulo)\n",
    "        if len(c[i].findAll(\"span\",{\"price-tag-fraction\"})) == 2:\n",
    "            \n",
    "            precioactual=c[i].findAll(\"span\",{\"price-tag-fraction\"})[1].text\n",
    "            precioanterior=c[i].findAll(\"span\",{\"price-tag-fraction\"})[0].text\n",
    "            descuento1=c[i].find(\"span\",{\"class\":\"ui-search-price__discount\"}).text\n",
    "            precio_actual.append(precioactual)\n",
    "            precio_anterior.append(precioanterior)\n",
    "            descuento.append(descuento1)\n",
    "\n",
    "        elif len(c[i].findAll(\"span\",{\"price-tag-fraction\"})) == 1:\n",
    "            descuento1=0\n",
    "            descuento.append(descuento1)\n",
    "            precioactual=c[i].findAll(\"span\",{\"price-tag-fraction\"})[0].text\n",
    "            precioanterior=c[i].findAll(\"span\",{\"price-tag-fraction\"})[0].text\n",
    "            precio_actual.append(precioactual)\n",
    "            precio_anterior.append(precioanterior)\n",
    "\n",
    "\n",
    "        detalles1=c[i].findAll(\"div\",{\"class\":\"ui-search-item__group ui-search-item__group--details\"})\n",
    "        if detalles1==[]:\n",
    "            detalles1=\"na\"\n",
    "            detalles.append(detalles1)\n",
    "        else:\n",
    "            detalles1=detalles1[0].text\n",
    "            detalles.append(detalles1)\n",
    "            \n",
    "for i in range(0,len(precio_actual)):\n",
    "    precio_actual[i]=float(precio_actual[i].replace(\".\",\"\"))\n",
    "    precio_anterior[i]=float(precio_anterior[i].replace(\".\",\"\"))"
   ]
  },
  {
   "cell_type": "code",
   "execution_count": null,
   "metadata": {},
   "outputs": [],
   "source": []
  }
 ],
 "metadata": {
  "kernelspec": {
   "display_name": "Python 3",
   "language": "python",
   "name": "python3"
  },
  "language_info": {
   "codemirror_mode": {
    "name": "ipython",
    "version": 3
   },
   "file_extension": ".py",
   "mimetype": "text/x-python",
   "name": "python",
   "nbconvert_exporter": "python",
   "pygments_lexer": "ipython3",
   "version": "3.8.5"
  }
 },
 "nbformat": 4,
 "nbformat_minor": 4
}
