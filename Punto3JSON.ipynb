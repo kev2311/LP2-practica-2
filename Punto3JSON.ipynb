{
 "cells": [
  {
   "cell_type": "code",
   "execution_count": 1,
   "metadata": {},
   "outputs": [],
   "source": [
    "# Importando las librerías\n",
    "import json\n",
    "import pandas as pd\n",
    "import numpy as np\n",
    "import matplotlib.pyplot as ptl\n",
    "import seaborn as sns\n",
    "from urllib.request import urlopen\n",
    "from bs4 import BeautifulSoup as soup\n",
    "import requests"
   ]
  },
  {
   "cell_type": "code",
   "execution_count": 2,
   "metadata": {},
   "outputs": [
    {
     "data": {
      "text/plain": [
       "'Laptop Lenovo Ideapad S540 Intel Core I5 10ma Gen 8gb 512gb '"
      ]
     },
     "execution_count": 2,
     "metadata": {},
     "output_type": "execute_result"
    }
   ],
   "source": [
    "# Mercado libre - laptops\n",
    "# Accediendo al website\n",
    "url=\"https://listado.mercadolibre.com.pe/computacion/laptops/\"\n",
    "uclient=urlopen(url)\n",
    "pagehtml=uclient.read()\n",
    "uclient.close()\n",
    "pagesoup=soup(pagehtml, \"html.parser\")\n",
    "c=pagesoup.findAll(\"li\",{\"class\":\"ui-search-layout__item\"})\n",
    "c[1].div.a[\"title\"]"
   ]
  },
  {
   "cell_type": "code",
   "execution_count": null,
   "metadata": {},
   "outputs": [],
   "source": []
  }
 ],
 "metadata": {
  "kernelspec": {
   "display_name": "Python 3",
   "language": "python",
   "name": "python3"
  },
  "language_info": {
   "codemirror_mode": {
    "name": "ipython",
    "version": 3
   },
   "file_extension": ".py",
   "mimetype": "text/x-python",
   "name": "python",
   "nbconvert_exporter": "python",
   "pygments_lexer": "ipython3",
   "version": "3.8.5"
  }
 },
 "nbformat": 4,
 "nbformat_minor": 4
}
